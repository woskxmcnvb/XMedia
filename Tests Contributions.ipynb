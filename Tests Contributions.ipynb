{
 "cells": [
  {
   "cell_type": "code",
   "execution_count": 1,
   "id": "6cf01e83",
   "metadata": {},
   "outputs": [],
   "source": [
    "%load_ext autoreload\n",
    "%autoreload 2\n",
    "\n",
    "import pandas as pd\n",
    "import numpy as np \n",
    "\n",
    "import matplotlib.pyplot as plt \n",
    "import seaborn as sns\n",
    "\n",
    "import json\n",
    "\n",
    "from MediaContributions import MediaContributionCalculator"
   ]
  },
  {
   "cell_type": "markdown",
   "id": "6178ac0f",
   "metadata": {},
   "source": [
    "# Tests"
   ]
  },
  {
   "cell_type": "code",
   "execution_count": 84,
   "id": "b33aead5",
   "metadata": {},
   "outputs": [],
   "source": [
    "model_data = pd.read_csv('model_data.csv')\n",
    "model_spec = {\n",
    "    'Target variables': [\n",
    "        #'TBCA Oxota', 'OOH Oxota', 'Trial Oxota', 'Unaided Oxota', 'Consider T1 Oxota'\n",
    "        'TBCA Oxota', 'OOH Oxota',\n",
    "    ], \n",
    "    'Campaign variables': [\n",
    "        {'Name': 'OOH freq',     'Alpha': 2, 'Gamma': 12}, \n",
    "        {'Name': 'Instore freq', 'Alpha': 2, 'Gamma': 4}, \n",
    "        {'Name': 'Bar freq',     'Alpha': 8, 'Gamma': 4},\n",
    "    ], \n",
    "    'Other variables': ['Volume', 'Media coverage'], \n",
    "    'Relevance groups variable': 'Buy m.o. Oxota',\n",
    "    'Subsample variables': ['Trial Oxota'] \n",
    "}\n",
    "\n",
    "xmc = MediaContributionCalculator(p_value=0.05, correct_base=False)\n",
    "model_spec = xmc.CheckFixSpec(model_data, model_spec)\n",
    "result = xmc.GetContributions(model_data, model_spec)\n",
    "#result = xmc.DEBUG(model_data, model_spec)\n",
    "\n",
    "result #.to_csv('1.csv')\n"
   ]
  },
  {
   "cell_type": "code",
   "execution_count": 85,
   "id": "993148ca",
   "metadata": {
    "scrolled": false
   },
   "outputs": [],
   "source": [
    "# Test ContributionsMultiTarget\n",
    "model_data = pd.read_csv('model_data.csv')\n",
    "model_spec = {\n",
    "    'Target variables': [\n",
    "        #'TBCA Oxota', 'OOH Oxota', 'Trial Oxota', 'Unaided Oxota', 'Consider T1 Oxota'\n",
    "        'TBCA Oxota', 'OOH Oxota',\n",
    "    ], \n",
    "    'Campaign variables': [\n",
    "        {'Name': 'OOH freq',     'Alpha': 2, 'Gamma': 12}, \n",
    "        {'Name': 'Instore freq', 'Alpha': 2, 'Gamma': 4}, \n",
    "        {'Name': 'Bar freq',     'Alpha': 8, 'Gamma': 4},\n",
    "    ], \n",
    "    'Other variables': ['Volume', 'Media coverage'], \n",
    "    'Relevance groups variable': 'Buy m.o. Oxota',\n",
    "    'Subsample variables': ['Trial Oxota'] \n",
    "}\n",
    "\n",
    "xmc = MediaContributionCalculator(p_value=0.05, correct_base=True)\n",
    "model_spec = xmc.CheckFixSpec(model_data, model_spec)\n",
    "\n",
    "result = xmc.ContributionsMultiTarget(model_data, model_spec)\n",
    "result.to_csv('2.csv')"
   ]
  },
  {
   "cell_type": "code",
   "execution_count": 409,
   "id": "45f487f5",
   "metadata": {},
   "outputs": [],
   "source": [
    "# Test RunFromFilesSpec\n",
    "\n",
    "#xmc = MediaContributionCalculator(p_value=0.1)\n",
    "#xmc.RunModelFromFilesSpec('model_data.csv', 'model_spec.json', 'outfile')"
   ]
  }
 ],
 "metadata": {
  "kernelspec": {
   "display_name": "Python 3",
   "language": "python",
   "name": "python3"
  },
  "language_info": {
   "codemirror_mode": {
    "name": "ipython",
    "version": 3
   },
   "file_extension": ".py",
   "mimetype": "text/x-python",
   "name": "python",
   "nbconvert_exporter": "python",
   "pygments_lexer": "ipython3",
   "version": "3.8.8"
  }
 },
 "nbformat": 4,
 "nbformat_minor": 5
}
