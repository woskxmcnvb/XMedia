{
 "cells": [
  {
   "cell_type": "code",
   "execution_count": 2,
   "id": "6cf01e83",
   "metadata": {},
   "outputs": [],
   "source": [
    "%load_ext autoreload\n",
    "%autoreload 2\n",
    "\n",
    "import pandas as pd\n",
    "import numpy as np \n",
    "\n",
    "import matplotlib.pyplot as plt \n",
    "import seaborn as sns"
   ]
  },
  {
   "cell_type": "markdown",
   "id": "dbdffd86",
   "metadata": {},
   "source": [
    "# Subsample regression develop"
   ]
  },
  {
   "cell_type": "code",
   "execution_count": 3,
   "id": "504ce42a",
   "metadata": {},
   "outputs": [],
   "source": [
    "model_data = pd.read_csv('model_data.csv')\n",
    "model_data['Base'] = 1"
   ]
  },
  {
   "cell_type": "code",
   "execution_count": 32,
   "id": "85a9bfbe",
   "metadata": {},
   "outputs": [
    {
     "data": {
      "text/html": [
       "<div>\n",
       "<style scoped>\n",
       "    .dataframe tbody tr th:only-of-type {\n",
       "        vertical-align: middle;\n",
       "    }\n",
       "\n",
       "    .dataframe tbody tr th {\n",
       "        vertical-align: top;\n",
       "    }\n",
       "\n",
       "    .dataframe thead th {\n",
       "        text-align: right;\n",
       "    }\n",
       "</style>\n",
       "<table border=\"1\" class=\"dataframe\">\n",
       "  <thead>\n",
       "    <tr style=\"text-align: right;\">\n",
       "      <th></th>\n",
       "      <th>Volume</th>\n",
       "      <th>Media coverage</th>\n",
       "      <th>WOM +ve</th>\n",
       "      <th>Experience +ve</th>\n",
       "      <th>Base</th>\n",
       "    </tr>\n",
       "    <tr>\n",
       "      <th>Buy m.o. Oxota</th>\n",
       "      <th></th>\n",
       "      <th></th>\n",
       "      <th></th>\n",
       "      <th></th>\n",
       "      <th></th>\n",
       "    </tr>\n",
       "  </thead>\n",
       "  <tbody>\n",
       "    <tr>\n",
       "      <th>0</th>\n",
       "      <td>0.007241</td>\n",
       "      <td>0.376702</td>\n",
       "      <td>0.24706</td>\n",
       "      <td>0.122140</td>\n",
       "      <td>0.447019</td>\n",
       "    </tr>\n",
       "    <tr>\n",
       "      <th>1</th>\n",
       "      <td>-0.024407</td>\n",
       "      <td>0.265133</td>\n",
       "      <td>0.27114</td>\n",
       "      <td>0.037035</td>\n",
       "      <td>0.684429</td>\n",
       "    </tr>\n",
       "  </tbody>\n",
       "</table>\n",
       "</div>"
      ],
      "text/plain": [
       "                  Volume  Media coverage  WOM +ve  Experience +ve      Base\n",
       "Buy m.o. Oxota                                                             \n",
       "0               0.007241        0.376702  0.24706        0.122140  0.447019\n",
       "1              -0.024407        0.265133  0.27114        0.037035  0.684429"
      ]
     },
     "execution_count": 32,
     "metadata": {},
     "output_type": "execute_result"
    }
   ],
   "source": [
    "from LinearRegression import LR\n",
    "\n",
    "y_name = 'TBCA Oxota'\n",
    "X_names = ['Volume', 'Media coverage', 'WOM +ve', 'Experience +ve', 'Base']\n",
    "\n",
    "\n",
    "def regressor(df, y, X): \n",
    "    reg = LR(fit_intercept=False) \n",
    "    reg.fit(df[X_names], df[y_name])\n",
    "    #return reg.score(df[X_names], df[y_name])\n",
    "    return pd.Series(reg.coef_, index=X_names)\n",
    "\n",
    "betas = model_data.groupby('Buy m.o. Oxota').apply(regressor, y=y_name, X=X_names)\n",
    "\n",
    "midx = [np.array(model_data['Buy m.o. Oxota']), np.array(model_data.index)]\n",
    "\n",
    "betas\n",
    "\n",
    "#print(model_data[X_names].set_index(midx).mul(betas, level=0).sum()) #.to_csv('t3.csv')\n",
    "\n",
    "#model_data[X_names].set_index([model_data.index, model_data['Buy m.o. Oxota']]).mul(betas, level=1)"
   ]
  },
  {
   "cell_type": "code",
   "execution_count": 5,
   "id": "cc6a1316",
   "metadata": {},
   "outputs": [
    {
     "data": {
      "text/plain": [
       "array([-0.02440695,  0.26513319,  0.27114008,  0.03703461,  0.68442945])"
      ]
     },
     "execution_count": 5,
     "metadata": {},
     "output_type": "execute_result"
    }
   ],
   "source": [
    "r_check = LR(fit_intercept=False)\n",
    "r_check.fit(model_data.loc[model_data['Buy m.o. Oxota'] == 1, X_names], \n",
    "            model_data.loc[model_data['Buy m.o. Oxota'] == 1, y_name])\n",
    "r_check.coef_"
   ]
  },
  {
   "cell_type": "code",
   "execution_count": 54,
   "id": "d6f78641",
   "metadata": {},
   "outputs": [
    {
     "data": {
      "text/html": [
       "<div>\n",
       "<style scoped>\n",
       "    .dataframe tbody tr th:only-of-type {\n",
       "        vertical-align: middle;\n",
       "    }\n",
       "\n",
       "    .dataframe tbody tr th {\n",
       "        vertical-align: top;\n",
       "    }\n",
       "\n",
       "    .dataframe thead th {\n",
       "        text-align: right;\n",
       "    }\n",
       "</style>\n",
       "<table border=\"1\" class=\"dataframe\">\n",
       "  <thead>\n",
       "    <tr style=\"text-align: right;\">\n",
       "      <th></th>\n",
       "      <th>Volume</th>\n",
       "      <th>Media coverage</th>\n",
       "      <th>WOM +ve</th>\n",
       "      <th>Experience +ve</th>\n",
       "      <th>Base</th>\n",
       "    </tr>\n",
       "  </thead>\n",
       "  <tbody>\n",
       "    <tr>\n",
       "      <th>0</th>\n",
       "      <td>0.007241</td>\n",
       "      <td>0.376702</td>\n",
       "      <td>0.24706</td>\n",
       "      <td>0.12214</td>\n",
       "      <td>0.447019</td>\n",
       "    </tr>\n",
       "    <tr>\n",
       "      <th>1</th>\n",
       "      <td>-0.024407</td>\n",
       "      <td>0.265133</td>\n",
       "      <td>0.27114</td>\n",
       "      <td>0.037035</td>\n",
       "      <td>0.684429</td>\n",
       "    </tr>\n",
       "  </tbody>\n",
       "</table>\n",
       "</div>"
      ],
      "text/plain": [
       "     Volume Media coverage  WOM +ve Experience +ve      Base\n",
       "0  0.007241       0.376702  0.24706        0.12214  0.447019\n",
       "1 -0.024407       0.265133  0.27114       0.037035  0.684429"
      ]
     },
     "execution_count": 54,
     "metadata": {},
     "output_type": "execute_result"
    }
   ],
   "source": [
    "from LinearRegression import SubSampleRegression\n",
    "\n",
    "ssreg = SubSampleRegression(0.05) \n",
    "ssreg.Fit(model_data, X_names, y_name, 'Buy m.o. Oxota')\n",
    "\n",
    "ssreg.betas"
   ]
  },
  {
   "cell_type": "code",
   "execution_count": 7,
   "id": "5e8e7048",
   "metadata": {},
   "outputs": [
    {
     "data": {
      "text/html": [
       "<div>\n",
       "<style scoped>\n",
       "    .dataframe tbody tr th:only-of-type {\n",
       "        vertical-align: middle;\n",
       "    }\n",
       "\n",
       "    .dataframe tbody tr th {\n",
       "        vertical-align: top;\n",
       "    }\n",
       "\n",
       "    .dataframe thead th {\n",
       "        text-align: right;\n",
       "    }\n",
       "</style>\n",
       "<table border=\"1\" class=\"dataframe\">\n",
       "  <thead>\n",
       "    <tr style=\"text-align: right;\">\n",
       "      <th></th>\n",
       "      <th>Volume</th>\n",
       "      <th>Media coverage</th>\n",
       "      <th>WOM +ve</th>\n",
       "      <th>Experience +ve</th>\n",
       "      <th>Base</th>\n",
       "    </tr>\n",
       "  </thead>\n",
       "  <tbody>\n",
       "    <tr>\n",
       "      <th>0</th>\n",
       "      <td>0.491591</td>\n",
       "      <td>0.003635</td>\n",
       "      <td>0.038014</td>\n",
       "      <td>0.044639</td>\n",
       "      <td>0.0</td>\n",
       "    </tr>\n",
       "    <tr>\n",
       "      <th>1</th>\n",
       "      <td>0.061273</td>\n",
       "      <td>0.016449</td>\n",
       "      <td>0.000556</td>\n",
       "      <td>0.703303</td>\n",
       "      <td>0.0</td>\n",
       "    </tr>\n",
       "  </tbody>\n",
       "</table>\n",
       "</div>"
      ],
      "text/plain": [
       "     Volume Media coverage   WOM +ve Experience +ve Base\n",
       "0  0.491591       0.003635  0.038014       0.044639  0.0\n",
       "1  0.061273       0.016449  0.000556       0.703303  0.0"
      ]
     },
     "execution_count": 7,
     "metadata": {},
     "output_type": "execute_result"
    }
   ],
   "source": [
    "ssreg.p_values"
   ]
  },
  {
   "cell_type": "code",
   "execution_count": 8,
   "id": "0d6e0448",
   "metadata": {},
   "outputs": [
    {
     "data": {
      "text/html": [
       "<div>\n",
       "<style scoped>\n",
       "    .dataframe tbody tr th:only-of-type {\n",
       "        vertical-align: middle;\n",
       "    }\n",
       "\n",
       "    .dataframe tbody tr th {\n",
       "        vertical-align: top;\n",
       "    }\n",
       "\n",
       "    .dataframe thead th {\n",
       "        text-align: right;\n",
       "    }\n",
       "</style>\n",
       "<table border=\"1\" class=\"dataframe\">\n",
       "  <thead>\n",
       "    <tr style=\"text-align: right;\">\n",
       "      <th></th>\n",
       "      <th>Volume</th>\n",
       "      <th>Media coverage</th>\n",
       "      <th>WOM +ve</th>\n",
       "      <th>Experience +ve</th>\n",
       "      <th>Base</th>\n",
       "    </tr>\n",
       "  </thead>\n",
       "  <tbody>\n",
       "    <tr>\n",
       "      <th>0</th>\n",
       "      <td>0</td>\n",
       "      <td>0.376702</td>\n",
       "      <td>0.24706</td>\n",
       "      <td>0.12214</td>\n",
       "      <td>0.447019</td>\n",
       "    </tr>\n",
       "    <tr>\n",
       "      <th>1</th>\n",
       "      <td>0</td>\n",
       "      <td>0.265133</td>\n",
       "      <td>0.27114</td>\n",
       "      <td>0</td>\n",
       "      <td>0.684429</td>\n",
       "    </tr>\n",
       "  </tbody>\n",
       "</table>\n",
       "</div>"
      ],
      "text/plain": [
       "  Volume Media coverage  WOM +ve Experience +ve      Base\n",
       "0      0       0.376702  0.24706        0.12214  0.447019\n",
       "1      0       0.265133  0.27114              0  0.684429"
      ]
     },
     "execution_count": 8,
     "metadata": {},
     "output_type": "execute_result"
    }
   ],
   "source": [
    "ssreg.betas_significant"
   ]
  },
  {
   "cell_type": "code",
   "execution_count": 9,
   "id": "5079dcbe",
   "metadata": {},
   "outputs": [
    {
     "data": {
      "text/html": [
       "<div>\n",
       "<style scoped>\n",
       "    .dataframe tbody tr th:only-of-type {\n",
       "        vertical-align: middle;\n",
       "    }\n",
       "\n",
       "    .dataframe tbody tr th {\n",
       "        vertical-align: top;\n",
       "    }\n",
       "\n",
       "    .dataframe thead th {\n",
       "        text-align: right;\n",
       "    }\n",
       "</style>\n",
       "<table border=\"1\" class=\"dataframe\">\n",
       "  <thead>\n",
       "    <tr style=\"text-align: right;\">\n",
       "      <th></th>\n",
       "      <th>Volume</th>\n",
       "      <th>Media coverage</th>\n",
       "      <th>WOM +ve</th>\n",
       "      <th>Experience +ve</th>\n",
       "      <th>Base</th>\n",
       "    </tr>\n",
       "  </thead>\n",
       "  <tbody>\n",
       "    <tr>\n",
       "      <th>0</th>\n",
       "      <td>0.0</td>\n",
       "      <td>0.0</td>\n",
       "      <td>0.0</td>\n",
       "      <td>0.0</td>\n",
       "      <td>0.447019</td>\n",
       "    </tr>\n",
       "    <tr>\n",
       "      <th>1</th>\n",
       "      <td>0.0</td>\n",
       "      <td>0.0</td>\n",
       "      <td>0.0</td>\n",
       "      <td>0.0</td>\n",
       "      <td>0.447019</td>\n",
       "    </tr>\n",
       "    <tr>\n",
       "      <th>2</th>\n",
       "      <td>0.0</td>\n",
       "      <td>0.0</td>\n",
       "      <td>0.0</td>\n",
       "      <td>0.12214</td>\n",
       "      <td>0.447019</td>\n",
       "    </tr>\n",
       "    <tr>\n",
       "      <th>3</th>\n",
       "      <td>0.0</td>\n",
       "      <td>0.0</td>\n",
       "      <td>0.0</td>\n",
       "      <td>0.0</td>\n",
       "      <td>0.447019</td>\n",
       "    </tr>\n",
       "    <tr>\n",
       "      <th>4</th>\n",
       "      <td>0.0</td>\n",
       "      <td>0.0</td>\n",
       "      <td>0.0</td>\n",
       "      <td>0.0</td>\n",
       "      <td>0.447019</td>\n",
       "    </tr>\n",
       "    <tr>\n",
       "      <th>...</th>\n",
       "      <td>...</td>\n",
       "      <td>...</td>\n",
       "      <td>...</td>\n",
       "      <td>...</td>\n",
       "      <td>...</td>\n",
       "    </tr>\n",
       "    <tr>\n",
       "      <th>415</th>\n",
       "      <td>0.0</td>\n",
       "      <td>0.0</td>\n",
       "      <td>0.27114</td>\n",
       "      <td>0</td>\n",
       "      <td>0.684429</td>\n",
       "    </tr>\n",
       "    <tr>\n",
       "      <th>416</th>\n",
       "      <td>0.0</td>\n",
       "      <td>0.0</td>\n",
       "      <td>0.0</td>\n",
       "      <td>0</td>\n",
       "      <td>0.684429</td>\n",
       "    </tr>\n",
       "    <tr>\n",
       "      <th>417</th>\n",
       "      <td>0.0</td>\n",
       "      <td>0.0</td>\n",
       "      <td>0.27114</td>\n",
       "      <td>0</td>\n",
       "      <td>0.684429</td>\n",
       "    </tr>\n",
       "    <tr>\n",
       "      <th>418</th>\n",
       "      <td>0.0</td>\n",
       "      <td>0.0</td>\n",
       "      <td>0.0</td>\n",
       "      <td>0.0</td>\n",
       "      <td>0.447019</td>\n",
       "    </tr>\n",
       "    <tr>\n",
       "      <th>419</th>\n",
       "      <td>0.0</td>\n",
       "      <td>0.0</td>\n",
       "      <td>0.27114</td>\n",
       "      <td>0</td>\n",
       "      <td>0.684429</td>\n",
       "    </tr>\n",
       "  </tbody>\n",
       "</table>\n",
       "<p>420 rows × 5 columns</p>\n",
       "</div>"
      ],
      "text/plain": [
       "    Volume Media coverage  WOM +ve Experience +ve      Base\n",
       "0      0.0            0.0      0.0            0.0  0.447019\n",
       "1      0.0            0.0      0.0            0.0  0.447019\n",
       "2      0.0            0.0      0.0        0.12214  0.447019\n",
       "3      0.0            0.0      0.0            0.0  0.447019\n",
       "4      0.0            0.0      0.0            0.0  0.447019\n",
       "..     ...            ...      ...            ...       ...\n",
       "415    0.0            0.0  0.27114              0  0.684429\n",
       "416    0.0            0.0      0.0              0  0.684429\n",
       "417    0.0            0.0  0.27114              0  0.684429\n",
       "418    0.0            0.0      0.0            0.0  0.447019\n",
       "419    0.0            0.0  0.27114              0  0.684429\n",
       "\n",
       "[420 rows x 5 columns]"
      ]
     },
     "execution_count": 9,
     "metadata": {},
     "output_type": "execute_result"
    }
   ],
   "source": [
    "ssreg.Contributions(model_data)#.to_csv('t4.csv')"
   ]
  },
  {
   "cell_type": "code",
   "execution_count": 10,
   "id": "fa0a0379",
   "metadata": {},
   "outputs": [
    {
     "data": {
      "text/plain": [
       "0      0.447019\n",
       "1      0.447019\n",
       "2       0.56916\n",
       "3      0.447019\n",
       "4      0.447019\n",
       "         ...   \n",
       "415     0.95557\n",
       "416    0.684429\n",
       "417     0.95557\n",
       "418    0.447019\n",
       "419     0.95557\n",
       "Length: 420, dtype: object"
      ]
     },
     "execution_count": 10,
     "metadata": {},
     "output_type": "execute_result"
    }
   ],
   "source": [
    "ssreg.Predict(model_data) #.to_csv('t5.csv')"
   ]
  },
  {
   "cell_type": "code",
   "execution_count": 11,
   "id": "3a58a61e",
   "metadata": {
    "scrolled": true
   },
   "outputs": [
    {
     "data": {
      "text/plain": [
       "0.10910026910418835"
      ]
     },
     "execution_count": 11,
     "metadata": {},
     "output_type": "execute_result"
    }
   ],
   "source": [
    "ssreg.Score(model_data, 'TBCA Oxota')"
   ]
  },
  {
   "cell_type": "code",
   "execution_count": 24,
   "id": "be8c4f36",
   "metadata": {},
   "outputs": [
    {
     "data": {
      "text/html": [
       "<div>\n",
       "<style scoped>\n",
       "    .dataframe tbody tr th:only-of-type {\n",
       "        vertical-align: middle;\n",
       "    }\n",
       "\n",
       "    .dataframe tbody tr th {\n",
       "        vertical-align: top;\n",
       "    }\n",
       "\n",
       "    .dataframe thead th {\n",
       "        text-align: right;\n",
       "    }\n",
       "</style>\n",
       "<table border=\"1\" class=\"dataframe\">\n",
       "  <thead>\n",
       "    <tr style=\"text-align: right;\">\n",
       "      <th></th>\n",
       "      <th>0</th>\n",
       "    </tr>\n",
       "  </thead>\n",
       "  <tbody>\n",
       "    <tr>\n",
       "      <th>Volume</th>\n",
       "      <td>-0.002406</td>\n",
       "    </tr>\n",
       "    <tr>\n",
       "      <th>Media coverage</th>\n",
       "      <td>0.332933</td>\n",
       "    </tr>\n",
       "    <tr>\n",
       "      <th>WOM +ve</th>\n",
       "      <td>0.262338</td>\n",
       "    </tr>\n",
       "    <tr>\n",
       "      <th>Experience +ve</th>\n",
       "      <td>0.120654</td>\n",
       "    </tr>\n",
       "    <tr>\n",
       "      <th>Base</th>\n",
       "      <td>0.494826</td>\n",
       "    </tr>\n",
       "  </tbody>\n",
       "</table>\n",
       "</div>"
      ],
      "text/plain": [
       "                       0\n",
       "Volume         -0.002406\n",
       "Media coverage  0.332933\n",
       "WOM +ve         0.262338\n",
       "Experience +ve  0.120654\n",
       "Base            0.494826"
      ]
     },
     "execution_count": 24,
     "metadata": {},
     "output_type": "execute_result"
    }
   ],
   "source": [
    "ssreg = SubSampleRegression(0.05) \n",
    "ssreg.Fit(model_data, X_names, y_name)\n",
    "\n",
    "pd.DataFrame(ssreg.betas) #.to_csv('t6.csv')"
   ]
  },
  {
   "cell_type": "code",
   "execution_count": 50,
   "id": "67ffc0f0",
   "metadata": {},
   "outputs": [
    {
     "data": {
      "text/plain": [
       "Volume           -0.002406\n",
       "Media coverage    0.332933\n",
       "WOM +ve           0.262338\n",
       "Experience +ve    0.120654\n",
       "Base              0.494826\n",
       "dtype: float64"
      ]
     },
     "execution_count": 50,
     "metadata": {},
     "output_type": "execute_result"
    }
   ],
   "source": [
    "ssreg = SubSampleRegression(0.05) \n",
    "ssreg.Fit(model_data, X_names, y_name)\n",
    "\n",
    "ssreg.betas"
   ]
  },
  {
   "cell_type": "code",
   "execution_count": 20,
   "id": "0832f920",
   "metadata": {},
   "outputs": [
    {
     "ename": "TypeError",
     "evalue": "super(type, obj): obj must be an instance or subtype of type",
     "output_type": "error",
     "traceback": [
      "\u001b[1;31m---------------------------------------------------------------------------\u001b[0m",
      "\u001b[1;31mTypeError\u001b[0m                                 Traceback (most recent call last)",
      "\u001b[1;32m<ipython-input-20-60ed662e8c55>\u001b[0m in \u001b[0;36m<module>\u001b[1;34m\u001b[0m\n\u001b[1;32m----> 1\u001b[1;33m \u001b[0mr_ch\u001b[0m \u001b[1;33m=\u001b[0m \u001b[0mLR\u001b[0m\u001b[1;33m(\u001b[0m\u001b[0mfit_intercept\u001b[0m\u001b[1;33m=\u001b[0m\u001b[1;32mFalse\u001b[0m\u001b[1;33m)\u001b[0m\u001b[1;33m\u001b[0m\u001b[1;33m\u001b[0m\u001b[0m\n\u001b[0m\u001b[0;32m      2\u001b[0m \u001b[0mr_ch\u001b[0m\u001b[1;33m.\u001b[0m\u001b[0mfit\u001b[0m\u001b[1;33m(\u001b[0m\u001b[0mmodel_data\u001b[0m\u001b[1;33m.\u001b[0m\u001b[0mloc\u001b[0m\u001b[1;33m[\u001b[0m\u001b[1;33m:\u001b[0m\u001b[1;33m,\u001b[0m \u001b[0mX_names\u001b[0m\u001b[1;33m]\u001b[0m\u001b[1;33m,\u001b[0m \u001b[0mmodel_data\u001b[0m\u001b[1;33m.\u001b[0m\u001b[0mloc\u001b[0m\u001b[1;33m[\u001b[0m\u001b[1;33m:\u001b[0m\u001b[1;33m,\u001b[0m \u001b[0my_name\u001b[0m\u001b[1;33m]\u001b[0m\u001b[1;33m)\u001b[0m\u001b[1;33m\u001b[0m\u001b[1;33m\u001b[0m\u001b[0m\n\u001b[0;32m      3\u001b[0m \u001b[0mr_ch\u001b[0m\u001b[1;33m.\u001b[0m\u001b[0mcoef_\u001b[0m\u001b[1;33m\u001b[0m\u001b[1;33m\u001b[0m\u001b[0m\n",
      "\u001b[1;32mC:\\!Work\\2023 XMModule\\XMedia\\LinearRegression.py\u001b[0m in \u001b[0;36m__init__\u001b[1;34m(self, fit_intercept)\u001b[0m\n\u001b[0;32m     23\u001b[0m \u001b[1;33m\u001b[0m\u001b[0m\n\u001b[0;32m     24\u001b[0m     \u001b[1;32mdef\u001b[0m \u001b[0m__init__\u001b[0m\u001b[1;33m(\u001b[0m\u001b[0mself\u001b[0m\u001b[1;33m,\u001b[0m \u001b[0mfit_intercept\u001b[0m\u001b[1;33m=\u001b[0m\u001b[1;32mTrue\u001b[0m\u001b[1;33m)\u001b[0m\u001b[1;33m:\u001b[0m\u001b[1;33m\u001b[0m\u001b[1;33m\u001b[0m\u001b[0m\n\u001b[1;32m---> 25\u001b[1;33m         \u001b[0msuper\u001b[0m\u001b[1;33m(\u001b[0m\u001b[0mLR\u001b[0m\u001b[1;33m,\u001b[0m \u001b[0mself\u001b[0m\u001b[1;33m)\u001b[0m\u001b[1;33m.\u001b[0m\u001b[0m__init__\u001b[0m\u001b[1;33m(\u001b[0m\u001b[0mfit_intercept\u001b[0m\u001b[1;33m=\u001b[0m\u001b[0mfit_intercept\u001b[0m\u001b[1;33m)\u001b[0m\u001b[1;33m\u001b[0m\u001b[1;33m\u001b[0m\u001b[0m\n\u001b[0m\u001b[0;32m     26\u001b[0m \u001b[1;33m\u001b[0m\u001b[0m\n\u001b[0;32m     27\u001b[0m     \u001b[1;32mdef\u001b[0m \u001b[0mfit\u001b[0m\u001b[1;33m(\u001b[0m\u001b[0mself\u001b[0m\u001b[1;33m,\u001b[0m \u001b[0mX\u001b[0m\u001b[1;33m,\u001b[0m \u001b[0my\u001b[0m\u001b[1;33m,\u001b[0m \u001b[0mn_jobs\u001b[0m\u001b[1;33m=\u001b[0m\u001b[1;36m1\u001b[0m\u001b[1;33m)\u001b[0m\u001b[1;33m:\u001b[0m\u001b[1;33m\u001b[0m\u001b[1;33m\u001b[0m\u001b[0m\n",
      "\u001b[1;31mTypeError\u001b[0m: super(type, obj): obj must be an instance or subtype of type"
     ]
    }
   ],
   "source": [
    "r_ch = LR(fit_intercept=False)\n",
    "r_ch.fit(model_data.loc[:, X_names], model_data.loc[:, y_name])\n",
    "r_ch.coef_"
   ]
  },
  {
   "cell_type": "code",
   "execution_count": 26,
   "id": "35d2a9eb",
   "metadata": {},
   "outputs": [
    {
     "data": {
      "text/html": [
       "<div>\n",
       "<style scoped>\n",
       "    .dataframe tbody tr th:only-of-type {\n",
       "        vertical-align: middle;\n",
       "    }\n",
       "\n",
       "    .dataframe tbody tr th {\n",
       "        vertical-align: top;\n",
       "    }\n",
       "\n",
       "    .dataframe thead th {\n",
       "        text-align: right;\n",
       "    }\n",
       "</style>\n",
       "<table border=\"1\" class=\"dataframe\">\n",
       "  <thead>\n",
       "    <tr style=\"text-align: right;\">\n",
       "      <th></th>\n",
       "      <th>Volume</th>\n",
       "      <th>Media coverage</th>\n",
       "      <th>WOM +ve</th>\n",
       "      <th>Experience +ve</th>\n",
       "      <th>Base</th>\n",
       "    </tr>\n",
       "  </thead>\n",
       "  <tbody>\n",
       "    <tr>\n",
       "      <th>0</th>\n",
       "      <td>0.0</td>\n",
       "      <td>0.0</td>\n",
       "      <td>0.000000</td>\n",
       "      <td>0.000000</td>\n",
       "      <td>0.494826</td>\n",
       "    </tr>\n",
       "    <tr>\n",
       "      <th>1</th>\n",
       "      <td>0.0</td>\n",
       "      <td>0.0</td>\n",
       "      <td>0.000000</td>\n",
       "      <td>0.000000</td>\n",
       "      <td>0.494826</td>\n",
       "    </tr>\n",
       "    <tr>\n",
       "      <th>2</th>\n",
       "      <td>0.0</td>\n",
       "      <td>0.0</td>\n",
       "      <td>0.000000</td>\n",
       "      <td>0.120654</td>\n",
       "      <td>0.494826</td>\n",
       "    </tr>\n",
       "    <tr>\n",
       "      <th>3</th>\n",
       "      <td>0.0</td>\n",
       "      <td>0.0</td>\n",
       "      <td>0.000000</td>\n",
       "      <td>0.000000</td>\n",
       "      <td>0.494826</td>\n",
       "    </tr>\n",
       "    <tr>\n",
       "      <th>4</th>\n",
       "      <td>0.0</td>\n",
       "      <td>0.0</td>\n",
       "      <td>0.000000</td>\n",
       "      <td>0.000000</td>\n",
       "      <td>0.494826</td>\n",
       "    </tr>\n",
       "    <tr>\n",
       "      <th>...</th>\n",
       "      <td>...</td>\n",
       "      <td>...</td>\n",
       "      <td>...</td>\n",
       "      <td>...</td>\n",
       "      <td>...</td>\n",
       "    </tr>\n",
       "    <tr>\n",
       "      <th>415</th>\n",
       "      <td>0.0</td>\n",
       "      <td>0.0</td>\n",
       "      <td>0.262338</td>\n",
       "      <td>0.120654</td>\n",
       "      <td>0.494826</td>\n",
       "    </tr>\n",
       "    <tr>\n",
       "      <th>416</th>\n",
       "      <td>0.0</td>\n",
       "      <td>0.0</td>\n",
       "      <td>0.000000</td>\n",
       "      <td>0.000000</td>\n",
       "      <td>0.494826</td>\n",
       "    </tr>\n",
       "    <tr>\n",
       "      <th>417</th>\n",
       "      <td>0.0</td>\n",
       "      <td>0.0</td>\n",
       "      <td>0.262338</td>\n",
       "      <td>0.120654</td>\n",
       "      <td>0.494826</td>\n",
       "    </tr>\n",
       "    <tr>\n",
       "      <th>418</th>\n",
       "      <td>0.0</td>\n",
       "      <td>0.0</td>\n",
       "      <td>0.000000</td>\n",
       "      <td>0.000000</td>\n",
       "      <td>0.494826</td>\n",
       "    </tr>\n",
       "    <tr>\n",
       "      <th>419</th>\n",
       "      <td>0.0</td>\n",
       "      <td>0.0</td>\n",
       "      <td>0.262338</td>\n",
       "      <td>0.120654</td>\n",
       "      <td>0.494826</td>\n",
       "    </tr>\n",
       "  </tbody>\n",
       "</table>\n",
       "<p>420 rows × 5 columns</p>\n",
       "</div>"
      ],
      "text/plain": [
       "     Volume  Media coverage   WOM +ve  Experience +ve      Base\n",
       "0       0.0             0.0  0.000000        0.000000  0.494826\n",
       "1       0.0             0.0  0.000000        0.000000  0.494826\n",
       "2       0.0             0.0  0.000000        0.120654  0.494826\n",
       "3       0.0             0.0  0.000000        0.000000  0.494826\n",
       "4       0.0             0.0  0.000000        0.000000  0.494826\n",
       "..      ...             ...       ...             ...       ...\n",
       "415     0.0             0.0  0.262338        0.120654  0.494826\n",
       "416     0.0             0.0  0.000000        0.000000  0.494826\n",
       "417     0.0             0.0  0.262338        0.120654  0.494826\n",
       "418     0.0             0.0  0.000000        0.000000  0.494826\n",
       "419     0.0             0.0  0.262338        0.120654  0.494826\n",
       "\n",
       "[420 rows x 5 columns]"
      ]
     },
     "execution_count": 26,
     "metadata": {},
     "output_type": "execute_result"
    }
   ],
   "source": [
    "ssreg.Contributions(model_data)"
   ]
  },
  {
   "cell_type": "code",
   "execution_count": 61,
   "id": "a941dd01",
   "metadata": {},
   "outputs": [
    {
     "data": {
      "text/plain": [
       "0      0.494826\n",
       "1      0.494826\n",
       "2      0.615480\n",
       "3      0.494826\n",
       "4      0.494826\n",
       "         ...   \n",
       "415    0.877819\n",
       "416    0.494826\n",
       "417    0.877819\n",
       "418    0.494826\n",
       "419    0.877819\n",
       "Length: 420, dtype: float64"
      ]
     },
     "execution_count": 61,
     "metadata": {},
     "output_type": "execute_result"
    }
   ],
   "source": [
    "ssreg.Predict(model_data)"
   ]
  },
  {
   "cell_type": "code",
   "execution_count": 62,
   "id": "f28467eb",
   "metadata": {},
   "outputs": [
    {
     "data": {
      "text/plain": [
       "0.11488887187629016"
      ]
     },
     "execution_count": 62,
     "metadata": {},
     "output_type": "execute_result"
    }
   ],
   "source": [
    "ssreg.Score(model_data, y_name)"
   ]
  },
  {
   "cell_type": "markdown",
   "id": "0273b48a",
   "metadata": {},
   "source": [
    "# getters Test"
   ]
  },
  {
   "cell_type": "code",
   "execution_count": 55,
   "id": "d2f8649f",
   "metadata": {},
   "outputs": [
    {
     "data": {
      "text/html": [
       "<div>\n",
       "<style scoped>\n",
       "    .dataframe tbody tr th:only-of-type {\n",
       "        vertical-align: middle;\n",
       "    }\n",
       "\n",
       "    .dataframe tbody tr th {\n",
       "        vertical-align: top;\n",
       "    }\n",
       "\n",
       "    .dataframe thead th {\n",
       "        text-align: right;\n",
       "    }\n",
       "</style>\n",
       "<table border=\"1\" class=\"dataframe\">\n",
       "  <thead>\n",
       "    <tr style=\"text-align: right;\">\n",
       "      <th></th>\n",
       "      <th>Volume</th>\n",
       "      <th>Media coverage</th>\n",
       "      <th>WOM +ve</th>\n",
       "      <th>Experience +ve</th>\n",
       "      <th>Base</th>\n",
       "    </tr>\n",
       "  </thead>\n",
       "  <tbody>\n",
       "    <tr>\n",
       "      <th>0</th>\n",
       "      <td>0.007241</td>\n",
       "      <td>0.376702</td>\n",
       "      <td>0.24706</td>\n",
       "      <td>0.12214</td>\n",
       "      <td>0.447019</td>\n",
       "    </tr>\n",
       "    <tr>\n",
       "      <th>1</th>\n",
       "      <td>-0.024407</td>\n",
       "      <td>0.265133</td>\n",
       "      <td>0.27114</td>\n",
       "      <td>0.037035</td>\n",
       "      <td>0.684429</td>\n",
       "    </tr>\n",
       "  </tbody>\n",
       "</table>\n",
       "</div>"
      ],
      "text/plain": [
       "     Volume Media coverage  WOM +ve Experience +ve      Base\n",
       "0  0.007241       0.376702  0.24706        0.12214  0.447019\n",
       "1 -0.024407       0.265133  0.27114       0.037035  0.684429"
      ]
     },
     "execution_count": 55,
     "metadata": {},
     "output_type": "execute_result"
    }
   ],
   "source": [
    "bts = ssreg.GetBetas()\n",
    "bts"
   ]
  },
  {
   "cell_type": "code",
   "execution_count": 56,
   "id": "362f8a79",
   "metadata": {},
   "outputs": [
    {
     "data": {
      "text/html": [
       "<div>\n",
       "<style scoped>\n",
       "    .dataframe tbody tr th:only-of-type {\n",
       "        vertical-align: middle;\n",
       "    }\n",
       "\n",
       "    .dataframe tbody tr th {\n",
       "        vertical-align: top;\n",
       "    }\n",
       "\n",
       "    .dataframe thead th {\n",
       "        text-align: right;\n",
       "    }\n",
       "</style>\n",
       "<table border=\"1\" class=\"dataframe\">\n",
       "  <thead>\n",
       "    <tr style=\"text-align: right;\">\n",
       "      <th></th>\n",
       "      <th>Volume</th>\n",
       "      <th>Media coverage</th>\n",
       "      <th>WOM +ve</th>\n",
       "      <th>Experience +ve</th>\n",
       "      <th>Base</th>\n",
       "    </tr>\n",
       "  </thead>\n",
       "  <tbody>\n",
       "    <tr>\n",
       "      <th>0</th>\n",
       "      <td>0.491591</td>\n",
       "      <td>0.003635</td>\n",
       "      <td>0.038014</td>\n",
       "      <td>0.044639</td>\n",
       "      <td>0.0</td>\n",
       "    </tr>\n",
       "    <tr>\n",
       "      <th>1</th>\n",
       "      <td>0.061273</td>\n",
       "      <td>0.016449</td>\n",
       "      <td>0.000556</td>\n",
       "      <td>0.703303</td>\n",
       "      <td>0.0</td>\n",
       "    </tr>\n",
       "  </tbody>\n",
       "</table>\n",
       "</div>"
      ],
      "text/plain": [
       "     Volume Media coverage   WOM +ve Experience +ve Base\n",
       "0  0.491591       0.003635  0.038014       0.044639  0.0\n",
       "1  0.061273       0.016449  0.000556       0.703303  0.0"
      ]
     },
     "execution_count": 56,
     "metadata": {},
     "output_type": "execute_result"
    }
   ],
   "source": [
    "pvs = ssreg.GetPValues()\n",
    "pvs"
   ]
  },
  {
   "cell_type": "code",
   "execution_count": 74,
   "id": "46fc3e79",
   "metadata": {},
   "outputs": [],
   "source": [
    "res = pd.concat([bts, pvs], axis=1)\n",
    "res.columns = [['Beta'] * len(bts.columns) + ['P-value'] * len(pvs.columns), res.columns]"
   ]
  },
  {
   "cell_type": "code",
   "execution_count": 73,
   "id": "86375ff0",
   "metadata": {},
   "outputs": [
    {
     "data": {
      "text/plain": [
       "MultiIndex([(   'Beta',         'Volume'),\n",
       "            (   'Beta', 'Media coverage'),\n",
       "            (   'Beta',        'WOM +ve'),\n",
       "            (   'Beta', 'Experience +ve'),\n",
       "            (   'Beta',           'Base'),\n",
       "            ('P-value',         'Volume'),\n",
       "            ('P-value', 'Media coverage'),\n",
       "            ('P-value',        'WOM +ve'),\n",
       "            ('P-value', 'Experience +ve'),\n",
       "            ('P-value',           'Base')],\n",
       "           )"
      ]
     },
     "execution_count": 73,
     "metadata": {},
     "output_type": "execute_result"
    }
   ],
   "source": [
    "pd.MultiIndex.from_arrays(\n",
    "        [['Beta'] * len(bts.columns) + ['P-value'] * len(pvs.columns), list(bts.columns) + list(pvs.columns)]\n",
    "    )"
   ]
  },
  {
   "cell_type": "markdown",
   "id": "d5b8da69",
   "metadata": {},
   "source": [
    "# Second run test"
   ]
  },
  {
   "cell_type": "code",
   "execution_count": 3,
   "id": "80670d45",
   "metadata": {},
   "outputs": [],
   "source": [
    "model_data = pd.read_csv('model_data.csv')\n",
    "model_data['Base'] = 1"
   ]
  },
  {
   "cell_type": "code",
   "execution_count": 4,
   "id": "7d9a2032",
   "metadata": {},
   "outputs": [
    {
     "data": {
      "text/html": [
       "<div>\n",
       "<style scoped>\n",
       "    .dataframe tbody tr th:only-of-type {\n",
       "        vertical-align: middle;\n",
       "    }\n",
       "\n",
       "    .dataframe tbody tr th {\n",
       "        vertical-align: top;\n",
       "    }\n",
       "\n",
       "    .dataframe thead th {\n",
       "        text-align: right;\n",
       "    }\n",
       "</style>\n",
       "<table border=\"1\" class=\"dataframe\">\n",
       "  <thead>\n",
       "    <tr style=\"text-align: right;\">\n",
       "      <th></th>\n",
       "      <th>Volume</th>\n",
       "      <th>Media coverage</th>\n",
       "      <th>WOM +ve</th>\n",
       "      <th>Experience +ve</th>\n",
       "      <th>Base</th>\n",
       "    </tr>\n",
       "    <tr>\n",
       "      <th>Buy m.o. Oxota</th>\n",
       "      <th></th>\n",
       "      <th></th>\n",
       "      <th></th>\n",
       "      <th></th>\n",
       "      <th></th>\n",
       "    </tr>\n",
       "  </thead>\n",
       "  <tbody>\n",
       "    <tr>\n",
       "      <th>0</th>\n",
       "      <td>0.007241</td>\n",
       "      <td>0.376702</td>\n",
       "      <td>0.24706</td>\n",
       "      <td>0.122140</td>\n",
       "      <td>0.447019</td>\n",
       "    </tr>\n",
       "    <tr>\n",
       "      <th>1</th>\n",
       "      <td>-0.024407</td>\n",
       "      <td>0.265133</td>\n",
       "      <td>0.27114</td>\n",
       "      <td>0.037035</td>\n",
       "      <td>0.684429</td>\n",
       "    </tr>\n",
       "  </tbody>\n",
       "</table>\n",
       "</div>"
      ],
      "text/plain": [
       "                  Volume  Media coverage  WOM +ve  Experience +ve      Base\n",
       "Buy m.o. Oxota                                                             \n",
       "0               0.007241        0.376702  0.24706        0.122140  0.447019\n",
       "1              -0.024407        0.265133  0.27114        0.037035  0.684429"
      ]
     },
     "execution_count": 4,
     "metadata": {},
     "output_type": "execute_result"
    }
   ],
   "source": [
    "from LinearRegression import LR\n",
    "\n",
    "y_name = 'TBCA Oxota'\n",
    "X_names = ['Volume', 'Media coverage', 'WOM +ve', 'Experience +ve', 'Base']\n",
    "\n",
    "\n",
    "def regressor(df, y, X): \n",
    "    reg = LR(fit_intercept=False) \n",
    "    reg.fit(df[X_names], df[y_name])\n",
    "    #return reg.score(df[X_names], df[y_name])\n",
    "    return pd.Series(reg.coef_, index=X_names)\n",
    "\n",
    "betas = model_data.groupby('Buy m.o. Oxota').apply(regressor, y=y_name, X=X_names)\n",
    "\n",
    "midx = [np.array(model_data['Buy m.o. Oxota']), np.array(model_data.index)]\n",
    "\n",
    "betas"
   ]
  },
  {
   "cell_type": "code",
   "execution_count": 32,
   "id": "8fa3dee3",
   "metadata": {},
   "outputs": [
    {
     "data": {
      "text/plain": [
       "(Volume            0.000000\n",
       " Media coverage    0.332933\n",
       " WOM +ve           0.262338\n",
       " Experience +ve    0.120654\n",
       " Base              0.494826\n",
       " dtype: float64,\n",
       " Volume            0.771260\n",
       " Media coverage    0.000132\n",
       " WOM +ve           0.000060\n",
       " Experience +ve    0.013570\n",
       " Base              0.000000\n",
       " dtype: float64)"
      ]
     },
     "execution_count": 32,
     "metadata": {},
     "output_type": "execute_result"
    }
   ],
   "source": [
    "from LinearRegression import SubSampleRegression\n",
    "\n",
    "ssreg = SubSampleRegression(0.05, second_run=False) \n",
    "ssreg.Fit(model_data, X_names, y_name)\n",
    "\n",
    "(ssreg.betas_significant, ssreg.p_values)"
   ]
  },
  {
   "cell_type": "code",
   "execution_count": 50,
   "id": "9600a964",
   "metadata": {},
   "outputs": [
    {
     "data": {
      "text/plain": [
       "(Volume            0.000000\n",
       " Media coverage    0.332327\n",
       " WOM +ve           0.262254\n",
       " Experience +ve    0.119213\n",
       " Base              0.486211\n",
       " dtype: float64,\n",
       " Volume            0.000000\n",
       " Media coverage    0.000132\n",
       " WOM +ve           0.000060\n",
       " Experience +ve    0.014107\n",
       " Base              0.000000\n",
       " dtype: float64)"
      ]
     },
     "execution_count": 50,
     "metadata": {},
     "output_type": "execute_result"
    }
   ],
   "source": [
    "y_name = 'TBCA Oxota'\n",
    "X_names = ['Volume', 'Media coverage', 'WOM +ve', 'Experience +ve', 'Base']\n",
    "\n",
    "ssreg = SubSampleRegression(0.05, second_run=True) \n",
    "ssreg.Fit(model_data, X_names, y_name)\n",
    "\n",
    "(ssreg.betas_significant, ssreg.p_values)"
   ]
  },
  {
   "cell_type": "code",
   "execution_count": 63,
   "id": "3045287d",
   "metadata": {},
   "outputs": [],
   "source": [
    "from LinearRegression import LR\n",
    "\n",
    "def DoSplitReg(model_data, X_names, y_name, s_name):\n",
    "    def regressor(df, y, X): \n",
    "        reg = LR(fit_intercept=False) \n",
    "        reg.fit(df[X_names], df[y_name])\n",
    "        return pd.Series(reg.coef_, index=X_names)\n",
    "\n",
    "    return model_data.groupby(s_name).apply(regressor, y=y_name, X=X_names)\n"
   ]
  },
  {
   "cell_type": "markdown",
   "id": "476763e9",
   "metadata": {},
   "source": [
    "C подвыборками"
   ]
  },
  {
   "cell_type": "code",
   "execution_count": 66,
   "id": "4e8be4d1",
   "metadata": {},
   "outputs": [
    {
     "data": {
      "text/html": [
       "<div>\n",
       "<style scoped>\n",
       "    .dataframe tbody tr th:only-of-type {\n",
       "        vertical-align: middle;\n",
       "    }\n",
       "\n",
       "    .dataframe tbody tr th {\n",
       "        vertical-align: top;\n",
       "    }\n",
       "\n",
       "    .dataframe thead th {\n",
       "        text-align: right;\n",
       "    }\n",
       "</style>\n",
       "<table border=\"1\" class=\"dataframe\">\n",
       "  <thead>\n",
       "    <tr style=\"text-align: right;\">\n",
       "      <th></th>\n",
       "      <th>Volume</th>\n",
       "      <th>Media coverage</th>\n",
       "      <th>WOM +ve</th>\n",
       "      <th>Experience +ve</th>\n",
       "      <th>Base</th>\n",
       "    </tr>\n",
       "  </thead>\n",
       "  <tbody>\n",
       "    <tr>\n",
       "      <th>0</th>\n",
       "      <td>0.0</td>\n",
       "      <td>0.376988</td>\n",
       "      <td>0.243146</td>\n",
       "      <td>0.126249</td>\n",
       "      <td>0.472802</td>\n",
       "    </tr>\n",
       "    <tr>\n",
       "      <th>1</th>\n",
       "      <td>0.0</td>\n",
       "      <td>0.252867</td>\n",
       "      <td>0.274083</td>\n",
       "      <td>0.0</td>\n",
       "      <td>0.610092</td>\n",
       "    </tr>\n",
       "    <tr>\n",
       "      <th>0</th>\n",
       "      <td>0.0</td>\n",
       "      <td>0.003578</td>\n",
       "      <td>0.040726</td>\n",
       "      <td>0.03688</td>\n",
       "      <td>0.0</td>\n",
       "    </tr>\n",
       "    <tr>\n",
       "      <th>1</th>\n",
       "      <td>0.0</td>\n",
       "      <td>0.021196</td>\n",
       "      <td>0.000255</td>\n",
       "      <td>0.0</td>\n",
       "      <td>0.0</td>\n",
       "    </tr>\n",
       "    <tr>\n",
       "      <th>0</th>\n",
       "      <td>0.0</td>\n",
       "      <td>0.376988</td>\n",
       "      <td>0.243146</td>\n",
       "      <td>0.126249</td>\n",
       "      <td>0.472802</td>\n",
       "    </tr>\n",
       "    <tr>\n",
       "      <th>1</th>\n",
       "      <td>0.0</td>\n",
       "      <td>0.252867</td>\n",
       "      <td>0.274083</td>\n",
       "      <td>0.0</td>\n",
       "      <td>0.610092</td>\n",
       "    </tr>\n",
       "  </tbody>\n",
       "</table>\n",
       "</div>"
      ],
      "text/plain": [
       "  Volume Media coverage   WOM +ve Experience +ve      Base\n",
       "0    0.0       0.376988  0.243146       0.126249  0.472802\n",
       "1    0.0       0.252867  0.274083            0.0  0.610092\n",
       "0    0.0       0.003578  0.040726        0.03688       0.0\n",
       "1    0.0       0.021196  0.000255            0.0       0.0\n",
       "0    0.0       0.376988  0.243146       0.126249  0.472802\n",
       "1    0.0       0.252867  0.274083            0.0  0.610092"
      ]
     },
     "execution_count": 66,
     "metadata": {},
     "output_type": "execute_result"
    }
   ],
   "source": [
    "y_name = 'TBCA Oxota'\n",
    "X_names = ['Volume', 'Media coverage', 'WOM +ve', 'Experience +ve', 'Base']\n",
    "\n",
    "ssreg = SubSampleRegression(0.05, second_run=True) \n",
    "ssreg.Fit(model_data, X_names, y_name, 'Buy m.o. Oxota')\n",
    "\n",
    "pd.concat([ssreg.betas, ssreg.p_values, ssreg.betas_significant])"
   ]
  },
  {
   "cell_type": "code",
   "execution_count": 68,
   "id": "d462fe68",
   "metadata": {},
   "outputs": [
    {
     "data": {
      "text/html": [
       "<div>\n",
       "<style scoped>\n",
       "    .dataframe tbody tr th:only-of-type {\n",
       "        vertical-align: middle;\n",
       "    }\n",
       "\n",
       "    .dataframe tbody tr th {\n",
       "        vertical-align: top;\n",
       "    }\n",
       "\n",
       "    .dataframe thead th {\n",
       "        text-align: right;\n",
       "    }\n",
       "</style>\n",
       "<table border=\"1\" class=\"dataframe\">\n",
       "  <thead>\n",
       "    <tr style=\"text-align: right;\">\n",
       "      <th></th>\n",
       "      <th>Media coverage</th>\n",
       "      <th>WOM +ve</th>\n",
       "      <th>Base</th>\n",
       "    </tr>\n",
       "    <tr>\n",
       "      <th>Buy m.o. Oxota</th>\n",
       "      <th></th>\n",
       "      <th></th>\n",
       "      <th></th>\n",
       "    </tr>\n",
       "  </thead>\n",
       "  <tbody>\n",
       "    <tr>\n",
       "      <th>0</th>\n",
       "      <td>0.396660</td>\n",
       "      <td>0.304880</td>\n",
       "      <td>0.516348</td>\n",
       "    </tr>\n",
       "    <tr>\n",
       "      <th>1</th>\n",
       "      <td>0.252867</td>\n",
       "      <td>0.274083</td>\n",
       "      <td>0.610092</td>\n",
       "    </tr>\n",
       "  </tbody>\n",
       "</table>\n",
       "</div>"
      ],
      "text/plain": [
       "                Media coverage   WOM +ve      Base\n",
       "Buy m.o. Oxota                                    \n",
       "0                     0.396660  0.304880  0.516348\n",
       "1                     0.252867  0.274083  0.610092"
      ]
     },
     "execution_count": 68,
     "metadata": {},
     "output_type": "execute_result"
    }
   ],
   "source": [
    "DoSplitReg(model_data, ['Media coverage', 'WOM +ve', 'Base'], \n",
    "           y_name, 'Buy m.o. Oxota')"
   ]
  }
 ],
 "metadata": {
  "kernelspec": {
   "display_name": "Python 3",
   "language": "python",
   "name": "python3"
  },
  "language_info": {
   "codemirror_mode": {
    "name": "ipython",
    "version": 3
   },
   "file_extension": ".py",
   "mimetype": "text/x-python",
   "name": "python",
   "nbconvert_exporter": "python",
   "pygments_lexer": "ipython3",
   "version": "3.8.8"
  }
 },
 "nbformat": 4,
 "nbformat_minor": 5
}
