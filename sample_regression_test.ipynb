{
 "cells": [
  {
   "cell_type": "code",
   "execution_count": 2,
   "id": "6cf01e83",
   "metadata": {},
   "outputs": [],
   "source": [
    "%load_ext autoreload\n",
    "%autoreload 2\n",
    "\n",
    "import pandas as pd\n",
    "import numpy as np \n",
    "\n",
    "import matplotlib.pyplot as plt \n",
    "import seaborn as sns\n",
    "\n",
    "import json\n",
    "\n",
    "from MediaContributions import MediaContributionCalculator"
   ]
  },
  {
   "cell_type": "markdown",
   "id": "dbdffd86",
   "metadata": {},
   "source": [
    "# Subsample regression develop"
   ]
  },
  {
   "cell_type": "code",
   "execution_count": 3,
   "id": "504ce42a",
   "metadata": {},
   "outputs": [],
   "source": [
    "model_data = pd.read_csv('model_data.csv')\n",
    "model_data['Base'] = 1"
   ]
  },
  {
   "cell_type": "code",
   "execution_count": 4,
   "id": "85a9bfbe",
   "metadata": {},
   "outputs": [
    {
     "data": {
      "text/html": [
       "<div>\n",
       "<style scoped>\n",
       "    .dataframe tbody tr th:only-of-type {\n",
       "        vertical-align: middle;\n",
       "    }\n",
       "\n",
       "    .dataframe tbody tr th {\n",
       "        vertical-align: top;\n",
       "    }\n",
       "\n",
       "    .dataframe thead th {\n",
       "        text-align: right;\n",
       "    }\n",
       "</style>\n",
       "<table border=\"1\" class=\"dataframe\">\n",
       "  <thead>\n",
       "    <tr style=\"text-align: right;\">\n",
       "      <th></th>\n",
       "      <th>Volume</th>\n",
       "      <th>Media coverage</th>\n",
       "      <th>WOM +ve</th>\n",
       "      <th>Experience +ve</th>\n",
       "      <th>Base</th>\n",
       "    </tr>\n",
       "    <tr>\n",
       "      <th>Buy m.o. Oxota</th>\n",
       "      <th></th>\n",
       "      <th></th>\n",
       "      <th></th>\n",
       "      <th></th>\n",
       "      <th></th>\n",
       "    </tr>\n",
       "  </thead>\n",
       "  <tbody>\n",
       "    <tr>\n",
       "      <th>0</th>\n",
       "      <td>0.007241</td>\n",
       "      <td>0.376702</td>\n",
       "      <td>0.24706</td>\n",
       "      <td>0.122140</td>\n",
       "      <td>0.447019</td>\n",
       "    </tr>\n",
       "    <tr>\n",
       "      <th>1</th>\n",
       "      <td>-0.024407</td>\n",
       "      <td>0.265133</td>\n",
       "      <td>0.27114</td>\n",
       "      <td>0.037035</td>\n",
       "      <td>0.684429</td>\n",
       "    </tr>\n",
       "  </tbody>\n",
       "</table>\n",
       "</div>"
      ],
      "text/plain": [
       "                  Volume  Media coverage  WOM +ve  Experience +ve      Base\n",
       "Buy m.o. Oxota                                                             \n",
       "0               0.007241        0.376702  0.24706        0.122140  0.447019\n",
       "1              -0.024407        0.265133  0.27114        0.037035  0.684429"
      ]
     },
     "execution_count": 4,
     "metadata": {},
     "output_type": "execute_result"
    }
   ],
   "source": [
    "from LinearRegression import LR\n",
    "\n",
    "y_name = 'TBCA Oxota'\n",
    "X_names = ['Volume', 'Media coverage', 'WOM +ve', 'Experience +ve', 'Base']\n",
    "\n",
    "\n",
    "def regressor(df, y, X): \n",
    "    reg = LR(fit_intercept=False) \n",
    "    reg.fit(df[X_names], df[y_name])\n",
    "    #return reg.score(df[X_names], df[y_name])\n",
    "    return pd.Series(reg.coef_, index=X_names)\n",
    "\n",
    "betas = model_data.groupby('Buy m.o. Oxota').apply(regressor, y=y_name, X=X_names)\n",
    "\n",
    "midx = [np.array(model_data['Buy m.o. Oxota']), np.array(model_data.index)]\n",
    "\n",
    "betas\n",
    "\n",
    "#print(model_data[X_names].set_index(midx).mul(betas, level=0).sum()) #.to_csv('t3.csv')\n",
    "\n",
    "#model_data[X_names].set_index([model_data.index, model_data['Buy m.o. Oxota']]).mul(betas, level=1)"
   ]
  },
  {
   "cell_type": "code",
   "execution_count": 7,
   "id": "cc6a1316",
   "metadata": {},
   "outputs": [
    {
     "data": {
      "text/plain": [
       "array([-0.02440695,  0.26513319,  0.27114008,  0.03703461,  0.68442945])"
      ]
     },
     "execution_count": 7,
     "metadata": {},
     "output_type": "execute_result"
    }
   ],
   "source": [
    "r_check = LR(fit_intercept=False)\n",
    "r_check.fit(model_data.loc[model_data['Buy m.o. Oxota'] == 1, X_names], \n",
    "            model_data.loc[model_data['Buy m.o. Oxota'] == 1, y_name])\n",
    "r_check.coef_"
   ]
  },
  {
   "cell_type": "code",
   "execution_count": 53,
   "id": "d6f78641",
   "metadata": {},
   "outputs": [
    {
     "data": {
      "text/html": [
       "<div>\n",
       "<style scoped>\n",
       "    .dataframe tbody tr th:only-of-type {\n",
       "        vertical-align: middle;\n",
       "    }\n",
       "\n",
       "    .dataframe tbody tr th {\n",
       "        vertical-align: top;\n",
       "    }\n",
       "\n",
       "    .dataframe thead th {\n",
       "        text-align: right;\n",
       "    }\n",
       "</style>\n",
       "<table border=\"1\" class=\"dataframe\">\n",
       "  <thead>\n",
       "    <tr style=\"text-align: right;\">\n",
       "      <th></th>\n",
       "      <th>Volume</th>\n",
       "      <th>Media coverage</th>\n",
       "      <th>WOM +ve</th>\n",
       "      <th>Experience +ve</th>\n",
       "      <th>Base</th>\n",
       "    </tr>\n",
       "  </thead>\n",
       "  <tbody>\n",
       "    <tr>\n",
       "      <th>0</th>\n",
       "      <td>0.007241</td>\n",
       "      <td>0.376702</td>\n",
       "      <td>0.24706</td>\n",
       "      <td>0.12214</td>\n",
       "      <td>0.447019</td>\n",
       "    </tr>\n",
       "    <tr>\n",
       "      <th>1</th>\n",
       "      <td>-0.024407</td>\n",
       "      <td>0.265133</td>\n",
       "      <td>0.27114</td>\n",
       "      <td>0.037035</td>\n",
       "      <td>0.684429</td>\n",
       "    </tr>\n",
       "  </tbody>\n",
       "</table>\n",
       "</div>"
      ],
      "text/plain": [
       "     Volume Media coverage  WOM +ve Experience +ve      Base\n",
       "0  0.007241       0.376702  0.24706        0.12214  0.447019\n",
       "1 -0.024407       0.265133  0.27114       0.037035  0.684429"
      ]
     },
     "execution_count": 53,
     "metadata": {},
     "output_type": "execute_result"
    }
   ],
   "source": [
    "from LinearRegression import SubSampleRegression\n",
    "\n",
    "ssreg = SubSampleRegression(0.05) \n",
    "ssreg.Fit(model_data, X_names, y_name, 'Buy m.o. Oxota')\n",
    "\n",
    "ssreg.betas"
   ]
  },
  {
   "cell_type": "code",
   "execution_count": 54,
   "id": "5e8e7048",
   "metadata": {},
   "outputs": [
    {
     "data": {
      "text/html": [
       "<div>\n",
       "<style scoped>\n",
       "    .dataframe tbody tr th:only-of-type {\n",
       "        vertical-align: middle;\n",
       "    }\n",
       "\n",
       "    .dataframe tbody tr th {\n",
       "        vertical-align: top;\n",
       "    }\n",
       "\n",
       "    .dataframe thead th {\n",
       "        text-align: right;\n",
       "    }\n",
       "</style>\n",
       "<table border=\"1\" class=\"dataframe\">\n",
       "  <thead>\n",
       "    <tr style=\"text-align: right;\">\n",
       "      <th></th>\n",
       "      <th>Volume</th>\n",
       "      <th>Media coverage</th>\n",
       "      <th>WOM +ve</th>\n",
       "      <th>Experience +ve</th>\n",
       "      <th>Base</th>\n",
       "    </tr>\n",
       "  </thead>\n",
       "  <tbody>\n",
       "    <tr>\n",
       "      <th>0</th>\n",
       "      <td>0.491591</td>\n",
       "      <td>0.003635</td>\n",
       "      <td>0.038014</td>\n",
       "      <td>0.044639</td>\n",
       "      <td>0.0</td>\n",
       "    </tr>\n",
       "    <tr>\n",
       "      <th>1</th>\n",
       "      <td>0.061273</td>\n",
       "      <td>0.016449</td>\n",
       "      <td>0.000556</td>\n",
       "      <td>0.703303</td>\n",
       "      <td>0.0</td>\n",
       "    </tr>\n",
       "  </tbody>\n",
       "</table>\n",
       "</div>"
      ],
      "text/plain": [
       "     Volume Media coverage   WOM +ve Experience +ve Base\n",
       "0  0.491591       0.003635  0.038014       0.044639  0.0\n",
       "1  0.061273       0.016449  0.000556       0.703303  0.0"
      ]
     },
     "execution_count": 54,
     "metadata": {},
     "output_type": "execute_result"
    }
   ],
   "source": [
    "ssreg.p_values"
   ]
  },
  {
   "cell_type": "code",
   "execution_count": 55,
   "id": "0d6e0448",
   "metadata": {},
   "outputs": [
    {
     "data": {
      "text/html": [
       "<div>\n",
       "<style scoped>\n",
       "    .dataframe tbody tr th:only-of-type {\n",
       "        vertical-align: middle;\n",
       "    }\n",
       "\n",
       "    .dataframe tbody tr th {\n",
       "        vertical-align: top;\n",
       "    }\n",
       "\n",
       "    .dataframe thead th {\n",
       "        text-align: right;\n",
       "    }\n",
       "</style>\n",
       "<table border=\"1\" class=\"dataframe\">\n",
       "  <thead>\n",
       "    <tr style=\"text-align: right;\">\n",
       "      <th></th>\n",
       "      <th>Volume</th>\n",
       "      <th>Media coverage</th>\n",
       "      <th>WOM +ve</th>\n",
       "      <th>Experience +ve</th>\n",
       "      <th>Base</th>\n",
       "    </tr>\n",
       "  </thead>\n",
       "  <tbody>\n",
       "    <tr>\n",
       "      <th>0</th>\n",
       "      <td>0</td>\n",
       "      <td>0.376702</td>\n",
       "      <td>0.24706</td>\n",
       "      <td>0.12214</td>\n",
       "      <td>0.447019</td>\n",
       "    </tr>\n",
       "    <tr>\n",
       "      <th>1</th>\n",
       "      <td>0</td>\n",
       "      <td>0.265133</td>\n",
       "      <td>0.27114</td>\n",
       "      <td>0</td>\n",
       "      <td>0.684429</td>\n",
       "    </tr>\n",
       "  </tbody>\n",
       "</table>\n",
       "</div>"
      ],
      "text/plain": [
       "  Volume Media coverage  WOM +ve Experience +ve      Base\n",
       "0      0       0.376702  0.24706        0.12214  0.447019\n",
       "1      0       0.265133  0.27114              0  0.684429"
      ]
     },
     "execution_count": 55,
     "metadata": {},
     "output_type": "execute_result"
    }
   ],
   "source": [
    "ssreg.betas_significant"
   ]
  },
  {
   "cell_type": "code",
   "execution_count": 56,
   "id": "5079dcbe",
   "metadata": {},
   "outputs": [
    {
     "data": {
      "text/html": [
       "<div>\n",
       "<style scoped>\n",
       "    .dataframe tbody tr th:only-of-type {\n",
       "        vertical-align: middle;\n",
       "    }\n",
       "\n",
       "    .dataframe tbody tr th {\n",
       "        vertical-align: top;\n",
       "    }\n",
       "\n",
       "    .dataframe thead th {\n",
       "        text-align: right;\n",
       "    }\n",
       "</style>\n",
       "<table border=\"1\" class=\"dataframe\">\n",
       "  <thead>\n",
       "    <tr style=\"text-align: right;\">\n",
       "      <th></th>\n",
       "      <th>Volume</th>\n",
       "      <th>Media coverage</th>\n",
       "      <th>WOM +ve</th>\n",
       "      <th>Experience +ve</th>\n",
       "      <th>Base</th>\n",
       "    </tr>\n",
       "  </thead>\n",
       "  <tbody>\n",
       "    <tr>\n",
       "      <th>0</th>\n",
       "      <td>0.0</td>\n",
       "      <td>0.0</td>\n",
       "      <td>0.0</td>\n",
       "      <td>0.0</td>\n",
       "      <td>0.447019</td>\n",
       "    </tr>\n",
       "    <tr>\n",
       "      <th>1</th>\n",
       "      <td>0.0</td>\n",
       "      <td>0.0</td>\n",
       "      <td>0.0</td>\n",
       "      <td>0.0</td>\n",
       "      <td>0.447019</td>\n",
       "    </tr>\n",
       "    <tr>\n",
       "      <th>2</th>\n",
       "      <td>0.0</td>\n",
       "      <td>0.0</td>\n",
       "      <td>0.0</td>\n",
       "      <td>0.12214</td>\n",
       "      <td>0.447019</td>\n",
       "    </tr>\n",
       "    <tr>\n",
       "      <th>3</th>\n",
       "      <td>0.0</td>\n",
       "      <td>0.0</td>\n",
       "      <td>0.0</td>\n",
       "      <td>0.0</td>\n",
       "      <td>0.447019</td>\n",
       "    </tr>\n",
       "    <tr>\n",
       "      <th>4</th>\n",
       "      <td>0.0</td>\n",
       "      <td>0.0</td>\n",
       "      <td>0.0</td>\n",
       "      <td>0.0</td>\n",
       "      <td>0.447019</td>\n",
       "    </tr>\n",
       "    <tr>\n",
       "      <th>...</th>\n",
       "      <td>...</td>\n",
       "      <td>...</td>\n",
       "      <td>...</td>\n",
       "      <td>...</td>\n",
       "      <td>...</td>\n",
       "    </tr>\n",
       "    <tr>\n",
       "      <th>415</th>\n",
       "      <td>0.0</td>\n",
       "      <td>0.0</td>\n",
       "      <td>0.27114</td>\n",
       "      <td>0</td>\n",
       "      <td>0.684429</td>\n",
       "    </tr>\n",
       "    <tr>\n",
       "      <th>416</th>\n",
       "      <td>0.0</td>\n",
       "      <td>0.0</td>\n",
       "      <td>0.0</td>\n",
       "      <td>0</td>\n",
       "      <td>0.684429</td>\n",
       "    </tr>\n",
       "    <tr>\n",
       "      <th>417</th>\n",
       "      <td>0.0</td>\n",
       "      <td>0.0</td>\n",
       "      <td>0.27114</td>\n",
       "      <td>0</td>\n",
       "      <td>0.684429</td>\n",
       "    </tr>\n",
       "    <tr>\n",
       "      <th>418</th>\n",
       "      <td>0.0</td>\n",
       "      <td>0.0</td>\n",
       "      <td>0.0</td>\n",
       "      <td>0.0</td>\n",
       "      <td>0.447019</td>\n",
       "    </tr>\n",
       "    <tr>\n",
       "      <th>419</th>\n",
       "      <td>0.0</td>\n",
       "      <td>0.0</td>\n",
       "      <td>0.27114</td>\n",
       "      <td>0</td>\n",
       "      <td>0.684429</td>\n",
       "    </tr>\n",
       "  </tbody>\n",
       "</table>\n",
       "<p>420 rows × 5 columns</p>\n",
       "</div>"
      ],
      "text/plain": [
       "    Volume Media coverage  WOM +ve Experience +ve      Base\n",
       "0      0.0            0.0      0.0            0.0  0.447019\n",
       "1      0.0            0.0      0.0            0.0  0.447019\n",
       "2      0.0            0.0      0.0        0.12214  0.447019\n",
       "3      0.0            0.0      0.0            0.0  0.447019\n",
       "4      0.0            0.0      0.0            0.0  0.447019\n",
       "..     ...            ...      ...            ...       ...\n",
       "415    0.0            0.0  0.27114              0  0.684429\n",
       "416    0.0            0.0      0.0              0  0.684429\n",
       "417    0.0            0.0  0.27114              0  0.684429\n",
       "418    0.0            0.0      0.0            0.0  0.447019\n",
       "419    0.0            0.0  0.27114              0  0.684429\n",
       "\n",
       "[420 rows x 5 columns]"
      ]
     },
     "execution_count": 56,
     "metadata": {},
     "output_type": "execute_result"
    }
   ],
   "source": [
    "ssreg.Contributions(model_data)#.to_csv('t4.csv')"
   ]
  },
  {
   "cell_type": "code",
   "execution_count": 57,
   "id": "fa0a0379",
   "metadata": {},
   "outputs": [
    {
     "data": {
      "text/plain": [
       "0      0.447019\n",
       "1      0.447019\n",
       "2       0.56916\n",
       "3      0.447019\n",
       "4      0.447019\n",
       "         ...   \n",
       "415     0.95557\n",
       "416    0.684429\n",
       "417     0.95557\n",
       "418    0.447019\n",
       "419     0.95557\n",
       "Length: 420, dtype: object"
      ]
     },
     "execution_count": 57,
     "metadata": {},
     "output_type": "execute_result"
    }
   ],
   "source": [
    "ssreg.Predict(model_data) #.to_csv('t5.csv')"
   ]
  },
  {
   "cell_type": "code",
   "execution_count": 58,
   "id": "3a58a61e",
   "metadata": {
    "scrolled": true
   },
   "outputs": [
    {
     "data": {
      "text/plain": [
       "0.1091002691041888"
      ]
     },
     "execution_count": 58,
     "metadata": {},
     "output_type": "execute_result"
    }
   ],
   "source": [
    "ssreg.Score(model_data, 'TBCA Oxota')"
   ]
  },
  {
   "cell_type": "code",
   "execution_count": 59,
   "id": "be8c4f36",
   "metadata": {},
   "outputs": [
    {
     "data": {
      "text/html": [
       "<div>\n",
       "<style scoped>\n",
       "    .dataframe tbody tr th:only-of-type {\n",
       "        vertical-align: middle;\n",
       "    }\n",
       "\n",
       "    .dataframe tbody tr th {\n",
       "        vertical-align: top;\n",
       "    }\n",
       "\n",
       "    .dataframe thead th {\n",
       "        text-align: right;\n",
       "    }\n",
       "</style>\n",
       "<table border=\"1\" class=\"dataframe\">\n",
       "  <thead>\n",
       "    <tr style=\"text-align: right;\">\n",
       "      <th></th>\n",
       "      <th>0</th>\n",
       "    </tr>\n",
       "  </thead>\n",
       "  <tbody>\n",
       "    <tr>\n",
       "      <th>Volume</th>\n",
       "      <td>-0.002406</td>\n",
       "    </tr>\n",
       "    <tr>\n",
       "      <th>Media coverage</th>\n",
       "      <td>0.332933</td>\n",
       "    </tr>\n",
       "    <tr>\n",
       "      <th>WOM +ve</th>\n",
       "      <td>0.262338</td>\n",
       "    </tr>\n",
       "    <tr>\n",
       "      <th>Experience +ve</th>\n",
       "      <td>0.120654</td>\n",
       "    </tr>\n",
       "    <tr>\n",
       "      <th>Base</th>\n",
       "      <td>0.494826</td>\n",
       "    </tr>\n",
       "  </tbody>\n",
       "</table>\n",
       "</div>"
      ],
      "text/plain": [
       "                       0\n",
       "Volume         -0.002406\n",
       "Media coverage  0.332933\n",
       "WOM +ve         0.262338\n",
       "Experience +ve  0.120654\n",
       "Base            0.494826"
      ]
     },
     "execution_count": 59,
     "metadata": {},
     "output_type": "execute_result"
    }
   ],
   "source": [
    "ssreg = SubSampleRegression(0.05) \n",
    "ssreg.Fit(model_data, X_names, y_name)\n",
    "\n",
    "pd.DataFrame(ssreg.betas) #.to_csv('t6.csv')"
   ]
  },
  {
   "cell_type": "code",
   "execution_count": 12,
   "id": "0832f920",
   "metadata": {},
   "outputs": [
    {
     "data": {
      "text/plain": [
       "array([-0.00240626,  0.33293325,  0.26233848,  0.12065441,  0.494826  ])"
      ]
     },
     "execution_count": 12,
     "metadata": {},
     "output_type": "execute_result"
    }
   ],
   "source": [
    "r_ch = LR(fit_intercept=False)\n",
    "r_ch.fit(model_data.loc[:, X_names], model_data.loc[:, y_name])\n",
    "r_ch.coef_"
   ]
  },
  {
   "cell_type": "code",
   "execution_count": 60,
   "id": "f4e060a3",
   "metadata": {},
   "outputs": [
    {
     "data": {
      "text/html": [
       "<div>\n",
       "<style scoped>\n",
       "    .dataframe tbody tr th:only-of-type {\n",
       "        vertical-align: middle;\n",
       "    }\n",
       "\n",
       "    .dataframe tbody tr th {\n",
       "        vertical-align: top;\n",
       "    }\n",
       "\n",
       "    .dataframe thead th {\n",
       "        text-align: right;\n",
       "    }\n",
       "</style>\n",
       "<table border=\"1\" class=\"dataframe\">\n",
       "  <thead>\n",
       "    <tr style=\"text-align: right;\">\n",
       "      <th></th>\n",
       "      <th>Volume</th>\n",
       "      <th>Media coverage</th>\n",
       "      <th>WOM +ve</th>\n",
       "      <th>Experience +ve</th>\n",
       "      <th>Base</th>\n",
       "    </tr>\n",
       "  </thead>\n",
       "  <tbody>\n",
       "    <tr>\n",
       "      <th>0</th>\n",
       "      <td>0.0</td>\n",
       "      <td>0.0</td>\n",
       "      <td>0.000000</td>\n",
       "      <td>0.000000</td>\n",
       "      <td>0.494826</td>\n",
       "    </tr>\n",
       "    <tr>\n",
       "      <th>1</th>\n",
       "      <td>0.0</td>\n",
       "      <td>0.0</td>\n",
       "      <td>0.000000</td>\n",
       "      <td>0.000000</td>\n",
       "      <td>0.494826</td>\n",
       "    </tr>\n",
       "    <tr>\n",
       "      <th>2</th>\n",
       "      <td>0.0</td>\n",
       "      <td>0.0</td>\n",
       "      <td>0.000000</td>\n",
       "      <td>0.120654</td>\n",
       "      <td>0.494826</td>\n",
       "    </tr>\n",
       "    <tr>\n",
       "      <th>3</th>\n",
       "      <td>0.0</td>\n",
       "      <td>0.0</td>\n",
       "      <td>0.000000</td>\n",
       "      <td>0.000000</td>\n",
       "      <td>0.494826</td>\n",
       "    </tr>\n",
       "    <tr>\n",
       "      <th>4</th>\n",
       "      <td>0.0</td>\n",
       "      <td>0.0</td>\n",
       "      <td>0.000000</td>\n",
       "      <td>0.000000</td>\n",
       "      <td>0.494826</td>\n",
       "    </tr>\n",
       "    <tr>\n",
       "      <th>...</th>\n",
       "      <td>...</td>\n",
       "      <td>...</td>\n",
       "      <td>...</td>\n",
       "      <td>...</td>\n",
       "      <td>...</td>\n",
       "    </tr>\n",
       "    <tr>\n",
       "      <th>415</th>\n",
       "      <td>0.0</td>\n",
       "      <td>0.0</td>\n",
       "      <td>0.262338</td>\n",
       "      <td>0.120654</td>\n",
       "      <td>0.494826</td>\n",
       "    </tr>\n",
       "    <tr>\n",
       "      <th>416</th>\n",
       "      <td>0.0</td>\n",
       "      <td>0.0</td>\n",
       "      <td>0.000000</td>\n",
       "      <td>0.000000</td>\n",
       "      <td>0.494826</td>\n",
       "    </tr>\n",
       "    <tr>\n",
       "      <th>417</th>\n",
       "      <td>0.0</td>\n",
       "      <td>0.0</td>\n",
       "      <td>0.262338</td>\n",
       "      <td>0.120654</td>\n",
       "      <td>0.494826</td>\n",
       "    </tr>\n",
       "    <tr>\n",
       "      <th>418</th>\n",
       "      <td>0.0</td>\n",
       "      <td>0.0</td>\n",
       "      <td>0.000000</td>\n",
       "      <td>0.000000</td>\n",
       "      <td>0.494826</td>\n",
       "    </tr>\n",
       "    <tr>\n",
       "      <th>419</th>\n",
       "      <td>0.0</td>\n",
       "      <td>0.0</td>\n",
       "      <td>0.262338</td>\n",
       "      <td>0.120654</td>\n",
       "      <td>0.494826</td>\n",
       "    </tr>\n",
       "  </tbody>\n",
       "</table>\n",
       "<p>420 rows × 5 columns</p>\n",
       "</div>"
      ],
      "text/plain": [
       "     Volume  Media coverage   WOM +ve  Experience +ve      Base\n",
       "0       0.0             0.0  0.000000        0.000000  0.494826\n",
       "1       0.0             0.0  0.000000        0.000000  0.494826\n",
       "2       0.0             0.0  0.000000        0.120654  0.494826\n",
       "3       0.0             0.0  0.000000        0.000000  0.494826\n",
       "4       0.0             0.0  0.000000        0.000000  0.494826\n",
       "..      ...             ...       ...             ...       ...\n",
       "415     0.0             0.0  0.262338        0.120654  0.494826\n",
       "416     0.0             0.0  0.000000        0.000000  0.494826\n",
       "417     0.0             0.0  0.262338        0.120654  0.494826\n",
       "418     0.0             0.0  0.000000        0.000000  0.494826\n",
       "419     0.0             0.0  0.262338        0.120654  0.494826\n",
       "\n",
       "[420 rows x 5 columns]"
      ]
     },
     "execution_count": 60,
     "metadata": {},
     "output_type": "execute_result"
    }
   ],
   "source": [
    "ssreg.Contributions(model_data)"
   ]
  },
  {
   "cell_type": "code",
   "execution_count": 61,
   "id": "a941dd01",
   "metadata": {},
   "outputs": [
    {
     "data": {
      "text/plain": [
       "0      0.494826\n",
       "1      0.494826\n",
       "2      0.615480\n",
       "3      0.494826\n",
       "4      0.494826\n",
       "         ...   \n",
       "415    0.877819\n",
       "416    0.494826\n",
       "417    0.877819\n",
       "418    0.494826\n",
       "419    0.877819\n",
       "Length: 420, dtype: float64"
      ]
     },
     "execution_count": 61,
     "metadata": {},
     "output_type": "execute_result"
    }
   ],
   "source": [
    "ssreg.Predict(model_data)"
   ]
  },
  {
   "cell_type": "code",
   "execution_count": 62,
   "id": "f28467eb",
   "metadata": {},
   "outputs": [
    {
     "data": {
      "text/plain": [
       "0.11488887187629016"
      ]
     },
     "execution_count": 62,
     "metadata": {},
     "output_type": "execute_result"
    }
   ],
   "source": [
    "ssreg.Score(model_data, y_name)"
   ]
  },
  {
   "cell_type": "code",
   "execution_count": 63,
   "id": "99f8413b",
   "metadata": {
    "scrolled": true
   },
   "outputs": [
    {
     "data": {
      "text/plain": [
       "Volume           -0.002406\n",
       "Media coverage    0.332933\n",
       "WOM +ve           0.262338\n",
       "Experience +ve    0.120654\n",
       "Base              0.494826\n",
       "dtype: float64"
      ]
     },
     "execution_count": 63,
     "metadata": {},
     "output_type": "execute_result"
    }
   ],
   "source": [
    "ssreg.betas"
   ]
  },
  {
   "cell_type": "code",
   "execution_count": 64,
   "id": "487155cd",
   "metadata": {},
   "outputs": [
    {
     "data": {
      "text/plain": [
       "Volume            0.771260\n",
       "Media coverage    0.000132\n",
       "WOM +ve           0.000060\n",
       "Experience +ve    0.013570\n",
       "Base              0.000000\n",
       "dtype: float64"
      ]
     },
     "execution_count": 64,
     "metadata": {},
     "output_type": "execute_result"
    }
   ],
   "source": [
    "ssreg.p_values"
   ]
  },
  {
   "cell_type": "code",
   "execution_count": 46,
   "id": "7704601c",
   "metadata": {},
   "outputs": [
    {
     "data": {
      "text/plain": [
       "Volume            0.000000\n",
       "Media coverage    0.332933\n",
       "WOM +ve           0.262338\n",
       "Experience +ve    0.000000\n",
       "Base              0.494826\n",
       "dtype: float64"
      ]
     },
     "execution_count": 46,
     "metadata": {},
     "output_type": "execute_result"
    }
   ],
   "source": [
    "ssreg.betas.where(ssreg.p_values < 0.01, 0)"
   ]
  },
  {
   "cell_type": "code",
   "execution_count": 65,
   "id": "2a5f0152",
   "metadata": {},
   "outputs": [
    {
     "data": {
      "text/plain": [
       "Volume            0.000000\n",
       "Media coverage    0.332933\n",
       "WOM +ve           0.262338\n",
       "Experience +ve    0.120654\n",
       "Base              0.494826\n",
       "dtype: float64"
      ]
     },
     "execution_count": 65,
     "metadata": {},
     "output_type": "execute_result"
    }
   ],
   "source": [
    "ssreg.betas_significant"
   ]
  }
 ],
 "metadata": {
  "kernelspec": {
   "display_name": "Python 3",
   "language": "python",
   "name": "python3"
  },
  "language_info": {
   "codemirror_mode": {
    "name": "ipython",
    "version": 3
   },
   "file_extension": ".py",
   "mimetype": "text/x-python",
   "name": "python",
   "nbconvert_exporter": "python",
   "pygments_lexer": "ipython3",
   "version": "3.8.8"
  }
 },
 "nbformat": 4,
 "nbformat_minor": 5
}
