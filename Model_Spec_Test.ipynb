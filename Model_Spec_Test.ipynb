{
 "cells": [
  {
   "cell_type": "code",
   "execution_count": 2,
   "id": "94ec70ac",
   "metadata": {},
   "outputs": [
    {
     "name": "stdout",
     "output_type": "stream",
     "text": [
      "The autoreload extension is already loaded. To reload it, use:\n",
      "  %reload_ext autoreload\n"
     ]
    }
   ],
   "source": [
    "%load_ext autoreload\n",
    "%autoreload 2\n",
    "\n",
    "import pandas as pd\n",
    "import numpy as np \n",
    "\n",
    "import matplotlib.pyplot as plt \n",
    "import seaborn as sns\n",
    "\n",
    "import json\n",
    "\n",
    "from MediaContributions import MediaContributionCalculator, ModelSpec"
   ]
  },
  {
   "cell_type": "code",
   "execution_count": null,
   "id": "89d6263e",
   "metadata": {},
   "outputs": [],
   "source": [
    "#model_data = pd.read_csv('model_data.csv')"
   ]
  },
  {
   "cell_type": "code",
   "execution_count": 8,
   "id": "b14a3f17",
   "metadata": {},
   "outputs": [
    {
     "data": {
      "text/plain": [
       "{'Target variables': ['TBCA Oxota',\n",
       "  'OOH Oxota',\n",
       "  'Trial Oxota',\n",
       "  'Unaided Oxota',\n",
       "  'Consider T1 Oxota'],\n",
       " 'Campaign variables': [{'Name': 'OOH freq',\n",
       "   'Alpha': 2,\n",
       "   'Gamma': 12,\n",
       "   'Best Alpha': None,\n",
       "   'Best Gamma': None,\n",
       "   'Best pvalue': None},\n",
       "  {'Name': 'Instore freq',\n",
       "   'Alpha': 2,\n",
       "   'Gamma': 4,\n",
       "   'Best Alpha': None,\n",
       "   'Best Gamma': None,\n",
       "   'Best pvalue': None},\n",
       "  {'Name': 'Bar freq',\n",
       "   'Alpha': 8,\n",
       "   'Gamma': 4,\n",
       "   'Best Alpha': None,\n",
       "   'Best Gamma': None,\n",
       "   'Best pvalue': None}],\n",
       " 'Other variables': ['Volume', 'Media coverage', 'WOM +ve', 'Experience +ve'],\n",
       " 'Relevance groups variable': ['Buy m.o. Oxota'],\n",
       " 'Subsample variables': ['Trial Oxota']}"
      ]
     },
     "execution_count": 8,
     "metadata": {},
     "output_type": "execute_result"
    }
   ],
   "source": [
    "model_spec = {\n",
    "    'Target variables': [\n",
    "        'TBCA Oxota', 'OOH Oxota', 'Trial Oxota', 'Unaided Oxota', 'Consider T1 Oxota'\n",
    "        #'TBCA Oxota', 'Consider T1 Oxota'\n",
    "    ], \n",
    "    'Campaign variables': [\n",
    "        {'Name': 'OOH freq',     'Alpha': 2, 'Gamma': 12}, \n",
    "        {'Name': 'Instore freq', 'Alpha': 2, 'Gamma': 4}, \n",
    "        {'Name': 'Bar freq',     'Alpha': 8, 'Gamma': 4},\n",
    "    ], \n",
    "    'Other variables': ['Volume', 'Media coverage', 'WOM +ve', 'Experience +ve'], \n",
    "    'Relevance groups variable': 'Buy m.o. Oxota',\n",
    "    #'Relevance groups variable': None, \n",
    "    'Subsample variables': ['Trial Oxota'] \n",
    "}\n",
    "\n",
    "ModelSpec(model_spec).ToDict()"
   ]
  },
  {
   "cell_type": "code",
   "execution_count": null,
   "id": "c92e85c0",
   "metadata": {},
   "outputs": [],
   "source": [
    "model_spec = {\n",
    "    'Target variables': [\n",
    "        'TBCA Oxota', 'OOH Oxota', 'Trial Oxota', 'Unaided Oxota', 'Consider T1 Oxota'\n",
    "        #'TBCA Oxota', 'Consider T1 Oxota'\n",
    "    ], \n",
    "    'Campaign variables': [\n",
    "        {'Name': 'OOH freq',     'Alpha': 2, 'Gamma': 12}, \n",
    "        {'Name': 'Instore freq', 'Alpha': 2, 'Gamma': 4}, \n",
    "        {'Name': 'Bar freq',     'Alpha': 8, 'Gamma': 4},\n",
    "    ], \n",
    "    'Other variables': ['Volume', 'Media coverage', 'WOM +ve', 'Experience +ve'], \n",
    "    'Relevance groups variable': 'Buy m.o. Oxota',\n",
    "    #'Relevance groups variable': None, \n",
    "    'Subsample variables': ['Trial Oxota'] \n",
    "}\n",
    "\n",
    "ModelSpec(model_spec).ToDict()"
   ]
  },
  {
   "cell_type": "code",
   "execution_count": null,
   "id": "cb76089e",
   "metadata": {},
   "outputs": [],
   "source": []
  }
 ],
 "metadata": {
  "kernelspec": {
   "display_name": "Python 3",
   "language": "python",
   "name": "python3"
  },
  "language_info": {
   "codemirror_mode": {
    "name": "ipython",
    "version": 3
   },
   "file_extension": ".py",
   "mimetype": "text/x-python",
   "name": "python",
   "nbconvert_exporter": "python",
   "pygments_lexer": "ipython3",
   "version": "3.8.8"
  }
 },
 "nbformat": 4,
 "nbformat_minor": 5
}
